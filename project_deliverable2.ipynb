{
 "cells": [
  {
   "metadata": {},
   "cell_type": "markdown",
   "source": [
    "Karan Aryal\n",
    "\n",
    "Project Deliverable 2: Regression Modeling and Performance Evaluation"
   ],
   "id": "2dcf7381ff66420c"
  },
  {
   "metadata": {
    "ExecuteTime": {
     "end_time": "2025-07-26T19:39:20.400392Z",
     "start_time": "2025-07-26T19:39:20.397428Z"
    }
   },
   "cell_type": "code",
   "source": [
    "# Importing required libraries\n",
    "\n",
    "import pandas as pd\n",
    "import numpy as np\n",
    "import matplotlib.pyplot as plt\n",
    "import seaborn as sns\n",
    "\n",
    "from sklearn.model_selection import train_test_split, cross_val_score, KFold\n",
    "from sklearn.linear_model import LinearRegression, Ridge\n",
    "from sklearn.metrics import mean_squared_error, r2_score\n",
    "from sklearn.preprocessing import StandardScaler\n",
    "\n",
    "pd.set_option('display.max_columns', None)"
   ],
   "id": "initial_id",
   "outputs": [],
   "execution_count": 2
  },
  {
   "metadata": {
    "ExecuteTime": {
     "end_time": "2025-07-26T19:44:53.966800Z",
     "start_time": "2025-07-26T19:44:53.950004Z"
    }
   },
   "cell_type": "code",
   "source": [
    "# Load dataset\n",
    "df = pd.read_csv(\"student-mat.csv\", sep=';')\n",
    "df.head()"
   ],
   "id": "be33ed3e70a013a7",
   "outputs": [
    {
     "data": {
      "text/plain": [
       "  school sex  age address famsize Pstatus  Medu  Fedu     Mjob      Fjob  \\\n",
       "0     GP   F   18       U     GT3       A     4     4  at_home   teacher   \n",
       "1     GP   F   17       U     GT3       T     1     1  at_home     other   \n",
       "2     GP   F   15       U     LE3       T     1     1  at_home     other   \n",
       "3     GP   F   15       U     GT3       T     4     2   health  services   \n",
       "4     GP   F   16       U     GT3       T     3     3    other     other   \n",
       "\n",
       "   reason guardian  traveltime  studytime  failures schoolsup famsup paid  \\\n",
       "0  course   mother           2          2         0       yes     no   no   \n",
       "1  course   father           1          2         0        no    yes   no   \n",
       "2   other   mother           1          2         3       yes     no  yes   \n",
       "3    home   mother           1          3         0        no    yes  yes   \n",
       "4    home   father           1          2         0        no    yes  yes   \n",
       "\n",
       "  activities nursery higher internet romantic  famrel  freetime  goout  Dalc  \\\n",
       "0         no     yes    yes       no       no       4         3      4     1   \n",
       "1         no      no    yes      yes       no       5         3      3     1   \n",
       "2         no     yes    yes      yes       no       4         3      2     2   \n",
       "3        yes     yes    yes      yes      yes       3         2      2     1   \n",
       "4         no     yes    yes       no       no       4         3      2     1   \n",
       "\n",
       "   Walc  health  absences  G1  G2  G3  \n",
       "0     1       3         6   5   6   6  \n",
       "1     1       3         4   5   5   6  \n",
       "2     3       3        10   7   8  10  \n",
       "3     1       5         2  15  14  15  \n",
       "4     2       5         4   6  10  10  "
      ],
      "text/html": [
       "<div>\n",
       "<style scoped>\n",
       "    .dataframe tbody tr th:only-of-type {\n",
       "        vertical-align: middle;\n",
       "    }\n",
       "\n",
       "    .dataframe tbody tr th {\n",
       "        vertical-align: top;\n",
       "    }\n",
       "\n",
       "    .dataframe thead th {\n",
       "        text-align: right;\n",
       "    }\n",
       "</style>\n",
       "<table border=\"1\" class=\"dataframe\">\n",
       "  <thead>\n",
       "    <tr style=\"text-align: right;\">\n",
       "      <th></th>\n",
       "      <th>school</th>\n",
       "      <th>sex</th>\n",
       "      <th>age</th>\n",
       "      <th>address</th>\n",
       "      <th>famsize</th>\n",
       "      <th>Pstatus</th>\n",
       "      <th>Medu</th>\n",
       "      <th>Fedu</th>\n",
       "      <th>Mjob</th>\n",
       "      <th>Fjob</th>\n",
       "      <th>reason</th>\n",
       "      <th>guardian</th>\n",
       "      <th>traveltime</th>\n",
       "      <th>studytime</th>\n",
       "      <th>failures</th>\n",
       "      <th>schoolsup</th>\n",
       "      <th>famsup</th>\n",
       "      <th>paid</th>\n",
       "      <th>activities</th>\n",
       "      <th>nursery</th>\n",
       "      <th>higher</th>\n",
       "      <th>internet</th>\n",
       "      <th>romantic</th>\n",
       "      <th>famrel</th>\n",
       "      <th>freetime</th>\n",
       "      <th>goout</th>\n",
       "      <th>Dalc</th>\n",
       "      <th>Walc</th>\n",
       "      <th>health</th>\n",
       "      <th>absences</th>\n",
       "      <th>G1</th>\n",
       "      <th>G2</th>\n",
       "      <th>G3</th>\n",
       "    </tr>\n",
       "  </thead>\n",
       "  <tbody>\n",
       "    <tr>\n",
       "      <th>0</th>\n",
       "      <td>GP</td>\n",
       "      <td>F</td>\n",
       "      <td>18</td>\n",
       "      <td>U</td>\n",
       "      <td>GT3</td>\n",
       "      <td>A</td>\n",
       "      <td>4</td>\n",
       "      <td>4</td>\n",
       "      <td>at_home</td>\n",
       "      <td>teacher</td>\n",
       "      <td>course</td>\n",
       "      <td>mother</td>\n",
       "      <td>2</td>\n",
       "      <td>2</td>\n",
       "      <td>0</td>\n",
       "      <td>yes</td>\n",
       "      <td>no</td>\n",
       "      <td>no</td>\n",
       "      <td>no</td>\n",
       "      <td>yes</td>\n",
       "      <td>yes</td>\n",
       "      <td>no</td>\n",
       "      <td>no</td>\n",
       "      <td>4</td>\n",
       "      <td>3</td>\n",
       "      <td>4</td>\n",
       "      <td>1</td>\n",
       "      <td>1</td>\n",
       "      <td>3</td>\n",
       "      <td>6</td>\n",
       "      <td>5</td>\n",
       "      <td>6</td>\n",
       "      <td>6</td>\n",
       "    </tr>\n",
       "    <tr>\n",
       "      <th>1</th>\n",
       "      <td>GP</td>\n",
       "      <td>F</td>\n",
       "      <td>17</td>\n",
       "      <td>U</td>\n",
       "      <td>GT3</td>\n",
       "      <td>T</td>\n",
       "      <td>1</td>\n",
       "      <td>1</td>\n",
       "      <td>at_home</td>\n",
       "      <td>other</td>\n",
       "      <td>course</td>\n",
       "      <td>father</td>\n",
       "      <td>1</td>\n",
       "      <td>2</td>\n",
       "      <td>0</td>\n",
       "      <td>no</td>\n",
       "      <td>yes</td>\n",
       "      <td>no</td>\n",
       "      <td>no</td>\n",
       "      <td>no</td>\n",
       "      <td>yes</td>\n",
       "      <td>yes</td>\n",
       "      <td>no</td>\n",
       "      <td>5</td>\n",
       "      <td>3</td>\n",
       "      <td>3</td>\n",
       "      <td>1</td>\n",
       "      <td>1</td>\n",
       "      <td>3</td>\n",
       "      <td>4</td>\n",
       "      <td>5</td>\n",
       "      <td>5</td>\n",
       "      <td>6</td>\n",
       "    </tr>\n",
       "    <tr>\n",
       "      <th>2</th>\n",
       "      <td>GP</td>\n",
       "      <td>F</td>\n",
       "      <td>15</td>\n",
       "      <td>U</td>\n",
       "      <td>LE3</td>\n",
       "      <td>T</td>\n",
       "      <td>1</td>\n",
       "      <td>1</td>\n",
       "      <td>at_home</td>\n",
       "      <td>other</td>\n",
       "      <td>other</td>\n",
       "      <td>mother</td>\n",
       "      <td>1</td>\n",
       "      <td>2</td>\n",
       "      <td>3</td>\n",
       "      <td>yes</td>\n",
       "      <td>no</td>\n",
       "      <td>yes</td>\n",
       "      <td>no</td>\n",
       "      <td>yes</td>\n",
       "      <td>yes</td>\n",
       "      <td>yes</td>\n",
       "      <td>no</td>\n",
       "      <td>4</td>\n",
       "      <td>3</td>\n",
       "      <td>2</td>\n",
       "      <td>2</td>\n",
       "      <td>3</td>\n",
       "      <td>3</td>\n",
       "      <td>10</td>\n",
       "      <td>7</td>\n",
       "      <td>8</td>\n",
       "      <td>10</td>\n",
       "    </tr>\n",
       "    <tr>\n",
       "      <th>3</th>\n",
       "      <td>GP</td>\n",
       "      <td>F</td>\n",
       "      <td>15</td>\n",
       "      <td>U</td>\n",
       "      <td>GT3</td>\n",
       "      <td>T</td>\n",
       "      <td>4</td>\n",
       "      <td>2</td>\n",
       "      <td>health</td>\n",
       "      <td>services</td>\n",
       "      <td>home</td>\n",
       "      <td>mother</td>\n",
       "      <td>1</td>\n",
       "      <td>3</td>\n",
       "      <td>0</td>\n",
       "      <td>no</td>\n",
       "      <td>yes</td>\n",
       "      <td>yes</td>\n",
       "      <td>yes</td>\n",
       "      <td>yes</td>\n",
       "      <td>yes</td>\n",
       "      <td>yes</td>\n",
       "      <td>yes</td>\n",
       "      <td>3</td>\n",
       "      <td>2</td>\n",
       "      <td>2</td>\n",
       "      <td>1</td>\n",
       "      <td>1</td>\n",
       "      <td>5</td>\n",
       "      <td>2</td>\n",
       "      <td>15</td>\n",
       "      <td>14</td>\n",
       "      <td>15</td>\n",
       "    </tr>\n",
       "    <tr>\n",
       "      <th>4</th>\n",
       "      <td>GP</td>\n",
       "      <td>F</td>\n",
       "      <td>16</td>\n",
       "      <td>U</td>\n",
       "      <td>GT3</td>\n",
       "      <td>T</td>\n",
       "      <td>3</td>\n",
       "      <td>3</td>\n",
       "      <td>other</td>\n",
       "      <td>other</td>\n",
       "      <td>home</td>\n",
       "      <td>father</td>\n",
       "      <td>1</td>\n",
       "      <td>2</td>\n",
       "      <td>0</td>\n",
       "      <td>no</td>\n",
       "      <td>yes</td>\n",
       "      <td>yes</td>\n",
       "      <td>no</td>\n",
       "      <td>yes</td>\n",
       "      <td>yes</td>\n",
       "      <td>no</td>\n",
       "      <td>no</td>\n",
       "      <td>4</td>\n",
       "      <td>3</td>\n",
       "      <td>2</td>\n",
       "      <td>1</td>\n",
       "      <td>2</td>\n",
       "      <td>5</td>\n",
       "      <td>4</td>\n",
       "      <td>6</td>\n",
       "      <td>10</td>\n",
       "      <td>10</td>\n",
       "    </tr>\n",
       "  </tbody>\n",
       "</table>\n",
       "</div>"
      ]
     },
     "execution_count": 11,
     "metadata": {},
     "output_type": "execute_result"
    }
   ],
   "execution_count": 11
  },
  {
   "metadata": {
    "ExecuteTime": {
     "end_time": "2025-07-26T19:44:57.309862Z",
     "start_time": "2025-07-26T19:44:57.299540Z"
    }
   },
   "cell_type": "code",
   "source": [
    "# Data Cleaning and Preprocessing\n",
    "\n",
    "# Many features are binary categorical and must be converted to numeric.\n",
    "# We use label encoding for binary fields and one-hot encoding for multiclass fields.\n",
    "\n",
    "binary_cols = ['schoolsup', 'famsup', 'paid', 'activities', 'nursery',\n",
    "               'higher', 'internet', 'romantic']\n",
    "df[binary_cols] = df[binary_cols].map(lambda x: 1 if x == 'yes' else 0)\n",
    "\n",
    "df['sex'] = df['sex'].str.strip().str.upper().map({'F': 0, 'M': 1})\n",
    "df['address'] = df['address'].map({'U': 1, 'R': 0})\n",
    "df['famsize'] = df['famsize'].map({'GT3': 1, 'LE3': 0})\n",
    "df['Pstatus'] = df['Pstatus'].map({'T': 1, 'A': 0})"
   ],
   "id": "8dc38d0fa468bbe4",
   "outputs": [],
   "execution_count": 12
  },
  {
   "metadata": {
    "ExecuteTime": {
     "end_time": "2025-07-26T19:45:00.041782Z",
     "start_time": "2025-07-26T19:45:00.031930Z"
    }
   },
   "cell_type": "code",
   "source": [
    "multi_class_cols = ['school', 'Mjob', 'Fjob', 'reason', 'guardian']\n",
    "df = pd.get_dummies(df, columns=multi_class_cols, drop_first=True)"
   ],
   "id": "a8f3524f853cd22",
   "outputs": [],
   "execution_count": 13
  },
  {
   "metadata": {},
   "cell_type": "markdown",
   "source": [
    "Feature Engineering: This section focuses on transforming and creating new features that encapsulate deeper relationships within the dataset. Instead of relying solely on raw variables, we crafted features like avg_grade, parent_edu, and study_support to express latent academic and socio-environmental factors. Categorical variables were one-hot encoded, and ordinal values were normalized or binned strategically.\n",
    "\n",
    "Good features are half the model. This step is where we inject domain knowledge and structure into raw data, enabling the model to learn generalizable patterns rather than noise."
   ],
   "id": "671d1658f15a8fd2"
  },
  {
   "metadata": {
    "ExecuteTime": {
     "end_time": "2025-07-26T19:45:02.107539Z",
     "start_time": "2025-07-26T19:45:02.097794Z"
    }
   },
   "cell_type": "code",
   "source": [
    "# Feature Engineering\n",
    "\n",
    "# Here we construct new features with domain relevance:\n",
    "# - avg_grade: mean of G1 and G2\n",
    "# - parent_edu: mean of Medu and Fedu\n",
    "# - study_support: total support indicators\n",
    "# - travel_time_normalized: accessibility bin\n",
    "# - failure_absence_interaction: interaction term capturing compounded risk\n",
    "\n",
    "df['avg_grade'] = df[['G1', 'G2']].mean(axis=1)\n",
    "df['parent_edu'] = df[['Medu', 'Fedu']].mean(axis=1)\n",
    "df['study_support'] = df['schoolsup'] + df['famsup'] + df['internet']\n",
    "df['travel_time_normalized'] = pd.cut(df['traveltime'], bins=[0,1,2,4], labels=[2,1,0])\n",
    "df['travel_time_normalized'] = df['travel_time_normalized'].astype(int)\n",
    "df['failure_absence_interaction'] = df['failures'] * df['absences']\n",
    "df.drop(['G1', 'G2'], axis=1, inplace=True)\n",
    "\n"
   ],
   "id": "2379c0a8235ae825",
   "outputs": [],
   "execution_count": 14
  },
  {
   "metadata": {
    "ExecuteTime": {
     "end_time": "2025-07-26T19:45:04.573226Z",
     "start_time": "2025-07-26T19:45:04.564240Z"
    }
   },
   "cell_type": "code",
   "source": [
    "# Split into train/test sets and apply standard scaling.\n",
    "\n",
    "X = df.drop('G3', axis=1)\n",
    "y = df['G3']\n",
    "scaler = StandardScaler()\n",
    "X_scaled = scaler.fit_transform(X)\n",
    "X_train, X_test, y_train, y_test = train_test_split(X_scaled, y, test_size=0.2, random_state=42)"
   ],
   "id": "1335e747a6bf34ad",
   "outputs": [],
   "execution_count": 15
  },
  {
   "metadata": {},
   "cell_type": "markdown",
   "source": [
    "Model Training:\n",
    "\n",
    "Two regression models were implemented: Linear Regression (as a transparent baseline) and Ridge Regression (with L2 regularization). Ridge helps in controlling model complexity after one-hot encoding introduces many correlated features.\n",
    "\n",
    "We wanted to contrast an interpretable baseline with a regularized model that generalizes better; a classic setup for model evaluation."
   ],
   "id": "cb6f40a3fc18ce8d"
  },
  {
   "metadata": {
    "ExecuteTime": {
     "end_time": "2025-07-26T19:45:25.168934Z",
     "start_time": "2025-07-26T19:45:25.140513Z"
    }
   },
   "cell_type": "code",
   "source": [
    "# Model Training with Linear and Ridge Regression\n",
    "\n",
    "# Baseline Linear Regression\n",
    "lr = LinearRegression()\n",
    "lr.fit(X_train, y_train)\n",
    "y_pred_lr = lr.predict(X_test)\n",
    "\n",
    "# Ridge Regression\n",
    "ridge = Ridge(alpha=1.0)\n",
    "ridge.fit(X_train, y_train)\n",
    "y_pred_ridge = ridge.predict(X_test)"
   ],
   "id": "684a76f21c161a51",
   "outputs": [],
   "execution_count": 16
  },
  {
   "metadata": {},
   "cell_type": "markdown",
   "source": [
    "Model Evaluation\n",
    "\n",
    "The models were evaluated using R², MSE, and RMSE. These metrics collectively assess how well the model fits the data and the magnitude of its prediction errors. Residuals were also visualized to detect bias or variance problems.\n",
    "\n",
    "No single metric tells the whole story. We evaluated from multiple angles to draw a nuanced comparison between models."
   ],
   "id": "9cc8a8ce4aedaccf"
  },
  {
   "metadata": {
    "ExecuteTime": {
     "end_time": "2025-07-26T20:05:40.838301Z",
     "start_time": "2025-07-26T20:05:40.828377Z"
    }
   },
   "cell_type": "code",
   "source": [
    "# Evaluation\n",
    "\n",
    "# Evaluate using R², MSE, RMSE for both models\n",
    "mse_lr = mean_squared_error(y_test, y_pred_lr)\n",
    "rmse_lr = np.sqrt(mse_lr)\n",
    "r2_lr = r2_score(y_test, y_pred_lr)\n",
    "\n",
    "mse_ridge = mean_squared_error(y_test, y_pred_ridge)\n",
    "rmse_ridge = np.sqrt(mse_ridge)\n",
    "r2_ridge = r2_score(y_test, y_pred_ridge)\n",
    "\n",
    "print(f\"Linear Regression - R²: {r2_lr:.4f}, MSE: {mse_lr:.2f}, RMSE: {rmse_lr:.2f}\")\n",
    "print(f\"Ridge Regression - R²: {r2_ridge:.4f}, MSE: {mse_ridge:.2f}, RMSE: {rmse_ridge:.2f}\")\n"
   ],
   "id": "bbfc186af83e2f35",
   "outputs": [
    {
     "name": "stdout",
     "output_type": "stream",
     "text": [
      "Linear Regression - R²: 0.7020, MSE: 6.11, RMSE: 2.47\n",
      "Ridge Regression - R²: 0.7021, MSE: 6.11, RMSE: 2.47\n"
     ]
    }
   ],
   "execution_count": 21
  },
  {
   "metadata": {},
   "cell_type": "markdown",
   "source": [
    "Cross-Validation\n",
    "\n",
    "Applied 5-fold cross-validation to both models using cross_val_score() to estimate model stability and generalization performance. Each fold helps simulate an unseen test scenario.\n",
    "\n",
    "Avoids overfitting to a single train/test split. A model that performs well across folds is more trustworthy in deployment."
   ],
   "id": "34df2e894c52b41f"
  },
  {
   "metadata": {
    "ExecuteTime": {
     "end_time": "2025-07-26T20:12:21.578449Z",
     "start_time": "2025-07-26T20:12:21.520074Z"
    }
   },
   "cell_type": "code",
   "source": [
    "\n",
    "# Cross-Validation (5-Fold)\n",
    "cv = KFold(n_splits=5, shuffle=True, random_state=42)\n",
    "cv_scores_lr = cross_val_score(lr, X_scaled, y, cv=cv, scoring='r2')\n",
    "cv_scores_ridge = cross_val_score(ridge, X_scaled, y, cv=cv, scoring='r2')\n",
    "\n",
    "print(f\"Linear Regression CV R²: {cv_scores_lr.mean():.4f}\")\n",
    "print(f\"Ridge Regression CV R²: {cv_scores_ridge.mean():.4f}\")"
   ],
   "id": "f8da24d8e72c478c",
   "outputs": [
    {
     "name": "stdout",
     "output_type": "stream",
     "text": [
      "Linear Regression CV R²: 0.7725\n",
      "Ridge Regression CV R²: 0.7725\n"
     ]
    }
   ],
   "execution_count": 22
  },
  {
   "metadata": {},
   "cell_type": "markdown",
   "source": [
    "Model Comparison and Insights\n",
    "\n",
    "The section summarizes all metrics, includes visualizations, and draws conclusions. Ridge generally performed slightly better, especially in cross-validation, showing more robust generalization. Feature importance and engineered features were discussed in relation to performance.\n",
    "\n",
    "This isn’t just number crunching; it's reflection. Understanding why one model works better than another builds real-world ML intuition."
   ],
   "id": "a8b251b5fcb5e09d"
  },
  {
   "metadata": {
    "ExecuteTime": {
     "end_time": "2025-07-26T19:46:24.093122Z",
     "start_time": "2025-07-26T19:46:23.954404Z"
    }
   },
   "cell_type": "code",
   "source": [
    "# Visualization\n",
    "\n",
    "metrics_df = pd.DataFrame({\n",
    "    'Model': ['Linear Regression', 'Ridge Regression'],\n",
    "    'R²': [r2_lr, r2_ridge],\n",
    "    'MSE': [mse_lr, mse_ridge],\n",
    "    'RMSE': [rmse_lr, rmse_ridge]\n",
    "})\n",
    "\n",
    "metrics_df.set_index('Model').plot(kind='bar', figsize=(10,6), title='Model Performance Comparison')\n",
    "plt.ylabel('Metric Score')\n",
    "plt.grid(True)\n",
    "plt.xticks(rotation=0)\n",
    "plt.tight_layout()\n",
    "plt.show()\n",
    "\n",
    "# Residual Plots\n",
    "plt.figure(figsize=(10,5))\n",
    "sns.residplot(x=y_test, y=y_pred_lr, label=\"Linear Residuals\")\n",
    "sns.residplot(x=y_test, y=y_pred_ridge, color='red', label=\"Ridge Residuals\")\n",
    "plt.legend()\n",
    "plt.title(\"Residuals of Predictions\")\n",
    "plt.xlabel(\"Actual G3\")\n",
    "plt.ylabel(\"Residuals\")\n",
    "plt.show()"
   ],
   "id": "5b4eb44ec76475ae",
   "outputs": [
    {
     "data": {
      "text/plain": [
       "<Figure size 1000x600 with 1 Axes>"
      ],
      "image/png": "[encoded data removed]"
     },
     "metadata": {},
     "output_type": "display_data"
    },
    {
     "data": {
      "text/plain": [
       "<Figure size 1000x500 with 1 Axes>"
      ],
      "image/png": "[encoded data removed]"
     },
     "metadata": {},
     "output_type": "display_data"
    }
   ],
   "execution_count": 19
  }
 ],
 "metadata": {
  "kernelspec": {
   "display_name": "Python 3",
   "language": "python",
   "name": "python3"
  },
  "language_info": {
   "codemirror_mode": {
    "name": "ipython",
    "version": 2
   },
   "file_extension": ".py",
   "mimetype": "text/x-python",
   "name": "python",
   "nbconvert_exporter": "python",
   "pygments_lexer": "ipython2",
   "version": "2.7.6"
  }
 },
 "nbformat": 4,
 "nbformat_minor": 5
}
